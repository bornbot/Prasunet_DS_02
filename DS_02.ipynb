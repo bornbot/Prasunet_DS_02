{
 "cells": [
  {
   "cell_type": "code",
   "execution_count": 1,
   "id": "8fe50398-a778-4d0f-b313-a2a7a6f02d7b",
   "metadata": {},
   "outputs": [
    {
     "name": "stderr",
     "output_type": "stream",
     "text": [
      "C:\\Users\\HP\\anaconda3\\lib\\site-packages\\pandas\\core\\computation\\expressions.py:21: UserWarning: Pandas requires version '2.8.4' or newer of 'numexpr' (version '2.7.3' currently installed).\n",
      "  from pandas.core.computation.check import NUMEXPR_INSTALLED\n",
      "C:\\Users\\HP\\anaconda3\\lib\\site-packages\\pandas\\core\\arrays\\masked.py:60: UserWarning: Pandas requires version '1.3.6' or newer of 'bottleneck' (version '1.3.2' currently installed).\n",
      "  from pandas.core import (\n"
     ]
    }
   ],
   "source": [
    "import pandas as pd"
   ]
  },
  {
   "cell_type": "code",
   "execution_count": 2,
   "id": "2274e48d-48a8-4033-8119-9adce8a6ebb6",
   "metadata": {},
   "outputs": [
    {
     "data": {
      "text/html": [
       "<div>\n",
       "<style scoped>\n",
       "    .dataframe tbody tr th:only-of-type {\n",
       "        vertical-align: middle;\n",
       "    }\n",
       "\n",
       "    .dataframe tbody tr th {\n",
       "        vertical-align: top;\n",
       "    }\n",
       "\n",
       "    .dataframe thead th {\n",
       "        text-align: right;\n",
       "    }\n",
       "</style>\n",
       "<table border=\"1\" class=\"dataframe\">\n",
       "  <thead>\n",
       "    <tr style=\"text-align: right;\">\n",
       "      <th></th>\n",
       "      <th>PassengerId</th>\n",
       "      <th>Survived</th>\n",
       "    </tr>\n",
       "  </thead>\n",
       "  <tbody>\n",
       "    <tr>\n",
       "      <th>0</th>\n",
       "      <td>892</td>\n",
       "      <td>0</td>\n",
       "    </tr>\n",
       "    <tr>\n",
       "      <th>1</th>\n",
       "      <td>893</td>\n",
       "      <td>1</td>\n",
       "    </tr>\n",
       "    <tr>\n",
       "      <th>2</th>\n",
       "      <td>894</td>\n",
       "      <td>0</td>\n",
       "    </tr>\n",
       "    <tr>\n",
       "      <th>3</th>\n",
       "      <td>895</td>\n",
       "      <td>0</td>\n",
       "    </tr>\n",
       "    <tr>\n",
       "      <th>4</th>\n",
       "      <td>896</td>\n",
       "      <td>1</td>\n",
       "    </tr>\n",
       "  </tbody>\n",
       "</table>\n",
       "</div>"
      ],
      "text/plain": [
       "   PassengerId  Survived\n",
       "0          892         0\n",
       "1          893         1\n",
       "2          894         0\n",
       "3          895         0\n",
       "4          896         1"
      ]
     },
     "execution_count": 2,
     "metadata": {},
     "output_type": "execute_result"
    }
   ],
   "source": [
    "data= pd.read_csv(r\"C:\\Users\\HP\\Downloads\\titanic\\gender_submission.csv\")\n",
    "data.head()"
   ]
  },
  {
   "cell_type": "code",
   "execution_count": 3,
   "id": "b6f6e0ba-00a0-4880-bb30-52edee1a09b5",
   "metadata": {},
   "outputs": [
    {
     "data": {
      "text/html": [
       "<div>\n",
       "<style scoped>\n",
       "    .dataframe tbody tr th:only-of-type {\n",
       "        vertical-align: middle;\n",
       "    }\n",
       "\n",
       "    .dataframe tbody tr th {\n",
       "        vertical-align: top;\n",
       "    }\n",
       "\n",
       "    .dataframe thead th {\n",
       "        text-align: right;\n",
       "    }\n",
       "</style>\n",
       "<table border=\"1\" class=\"dataframe\">\n",
       "  <thead>\n",
       "    <tr style=\"text-align: right;\">\n",
       "      <th></th>\n",
       "      <th>PassengerId</th>\n",
       "      <th>Pclass</th>\n",
       "      <th>Name</th>\n",
       "      <th>Sex</th>\n",
       "      <th>Age</th>\n",
       "      <th>SibSp</th>\n",
       "      <th>Parch</th>\n",
       "      <th>Ticket</th>\n",
       "      <th>Fare</th>\n",
       "      <th>Cabin</th>\n",
       "      <th>Embarked</th>\n",
       "    </tr>\n",
       "  </thead>\n",
       "  <tbody>\n",
       "    <tr>\n",
       "      <th>0</th>\n",
       "      <td>892</td>\n",
       "      <td>3</td>\n",
       "      <td>Kelly, Mr. James</td>\n",
       "      <td>male</td>\n",
       "      <td>34.5</td>\n",
       "      <td>0</td>\n",
       "      <td>0</td>\n",
       "      <td>330911</td>\n",
       "      <td>7.8292</td>\n",
       "      <td>NaN</td>\n",
       "      <td>Q</td>\n",
       "    </tr>\n",
       "    <tr>\n",
       "      <th>1</th>\n",
       "      <td>893</td>\n",
       "      <td>3</td>\n",
       "      <td>Wilkes, Mrs. James (Ellen Needs)</td>\n",
       "      <td>female</td>\n",
       "      <td>47.0</td>\n",
       "      <td>1</td>\n",
       "      <td>0</td>\n",
       "      <td>363272</td>\n",
       "      <td>7.0000</td>\n",
       "      <td>NaN</td>\n",
       "      <td>S</td>\n",
       "    </tr>\n",
       "    <tr>\n",
       "      <th>2</th>\n",
       "      <td>894</td>\n",
       "      <td>2</td>\n",
       "      <td>Myles, Mr. Thomas Francis</td>\n",
       "      <td>male</td>\n",
       "      <td>62.0</td>\n",
       "      <td>0</td>\n",
       "      <td>0</td>\n",
       "      <td>240276</td>\n",
       "      <td>9.6875</td>\n",
       "      <td>NaN</td>\n",
       "      <td>Q</td>\n",
       "    </tr>\n",
       "    <tr>\n",
       "      <th>3</th>\n",
       "      <td>895</td>\n",
       "      <td>3</td>\n",
       "      <td>Wirz, Mr. Albert</td>\n",
       "      <td>male</td>\n",
       "      <td>27.0</td>\n",
       "      <td>0</td>\n",
       "      <td>0</td>\n",
       "      <td>315154</td>\n",
       "      <td>8.6625</td>\n",
       "      <td>NaN</td>\n",
       "      <td>S</td>\n",
       "    </tr>\n",
       "    <tr>\n",
       "      <th>4</th>\n",
       "      <td>896</td>\n",
       "      <td>3</td>\n",
       "      <td>Hirvonen, Mrs. Alexander (Helga E Lindqvist)</td>\n",
       "      <td>female</td>\n",
       "      <td>22.0</td>\n",
       "      <td>1</td>\n",
       "      <td>1</td>\n",
       "      <td>3101298</td>\n",
       "      <td>12.2875</td>\n",
       "      <td>NaN</td>\n",
       "      <td>S</td>\n",
       "    </tr>\n",
       "  </tbody>\n",
       "</table>\n",
       "</div>"
      ],
      "text/plain": [
       "   PassengerId  Pclass                                          Name     Sex  \\\n",
       "0          892       3                              Kelly, Mr. James    male   \n",
       "1          893       3              Wilkes, Mrs. James (Ellen Needs)  female   \n",
       "2          894       2                     Myles, Mr. Thomas Francis    male   \n",
       "3          895       3                              Wirz, Mr. Albert    male   \n",
       "4          896       3  Hirvonen, Mrs. Alexander (Helga E Lindqvist)  female   \n",
       "\n",
       "    Age  SibSp  Parch   Ticket     Fare Cabin Embarked  \n",
       "0  34.5      0      0   330911   7.8292   NaN        Q  \n",
       "1  47.0      1      0   363272   7.0000   NaN        S  \n",
       "2  62.0      0      0   240276   9.6875   NaN        Q  \n",
       "3  27.0      0      0   315154   8.6625   NaN        S  \n",
       "4  22.0      1      1  3101298  12.2875   NaN        S  "
      ]
     },
     "execution_count": 3,
     "metadata": {},
     "output_type": "execute_result"
    }
   ],
   "source": [
    "test= pd.read_csv(r\"C:\\Users\\HP\\Downloads\\titanic\\test.csv\")\n",
    "test.head()\n"
   ]
  },
  {
   "cell_type": "code",
   "execution_count": 5,
   "id": "e41de953-27b2-463c-960e-d2d35f7ac13b",
   "metadata": {},
   "outputs": [
    {
     "data": {
      "text/html": [
       "<div>\n",
       "<style scoped>\n",
       "    .dataframe tbody tr th:only-of-type {\n",
       "        vertical-align: middle;\n",
       "    }\n",
       "\n",
       "    .dataframe tbody tr th {\n",
       "        vertical-align: top;\n",
       "    }\n",
       "\n",
       "    .dataframe thead th {\n",
       "        text-align: right;\n",
       "    }\n",
       "</style>\n",
       "<table border=\"1\" class=\"dataframe\">\n",
       "  <thead>\n",
       "    <tr style=\"text-align: right;\">\n",
       "      <th></th>\n",
       "      <th>PassengerId</th>\n",
       "      <th>Survived</th>\n",
       "      <th>Pclass</th>\n",
       "      <th>Name</th>\n",
       "      <th>Sex</th>\n",
       "      <th>Age</th>\n",
       "      <th>SibSp</th>\n",
       "      <th>Parch</th>\n",
       "      <th>Ticket</th>\n",
       "      <th>Fare</th>\n",
       "      <th>Cabin</th>\n",
       "      <th>Embarked</th>\n",
       "    </tr>\n",
       "  </thead>\n",
       "  <tbody>\n",
       "    <tr>\n",
       "      <th>0</th>\n",
       "      <td>1</td>\n",
       "      <td>0</td>\n",
       "      <td>3</td>\n",
       "      <td>Braund, Mr. Owen Harris</td>\n",
       "      <td>male</td>\n",
       "      <td>22.0</td>\n",
       "      <td>1</td>\n",
       "      <td>0</td>\n",
       "      <td>A/5 21171</td>\n",
       "      <td>7.2500</td>\n",
       "      <td>NaN</td>\n",
       "      <td>S</td>\n",
       "    </tr>\n",
       "    <tr>\n",
       "      <th>1</th>\n",
       "      <td>2</td>\n",
       "      <td>1</td>\n",
       "      <td>1</td>\n",
       "      <td>Cumings, Mrs. John Bradley (Florence Briggs Th...</td>\n",
       "      <td>female</td>\n",
       "      <td>38.0</td>\n",
       "      <td>1</td>\n",
       "      <td>0</td>\n",
       "      <td>PC 17599</td>\n",
       "      <td>71.2833</td>\n",
       "      <td>C85</td>\n",
       "      <td>C</td>\n",
       "    </tr>\n",
       "    <tr>\n",
       "      <th>2</th>\n",
       "      <td>3</td>\n",
       "      <td>1</td>\n",
       "      <td>3</td>\n",
       "      <td>Heikkinen, Miss. Laina</td>\n",
       "      <td>female</td>\n",
       "      <td>26.0</td>\n",
       "      <td>0</td>\n",
       "      <td>0</td>\n",
       "      <td>STON/O2. 3101282</td>\n",
       "      <td>7.9250</td>\n",
       "      <td>NaN</td>\n",
       "      <td>S</td>\n",
       "    </tr>\n",
       "    <tr>\n",
       "      <th>3</th>\n",
       "      <td>4</td>\n",
       "      <td>1</td>\n",
       "      <td>1</td>\n",
       "      <td>Futrelle, Mrs. Jacques Heath (Lily May Peel)</td>\n",
       "      <td>female</td>\n",
       "      <td>35.0</td>\n",
       "      <td>1</td>\n",
       "      <td>0</td>\n",
       "      <td>113803</td>\n",
       "      <td>53.1000</td>\n",
       "      <td>C123</td>\n",
       "      <td>S</td>\n",
       "    </tr>\n",
       "    <tr>\n",
       "      <th>4</th>\n",
       "      <td>5</td>\n",
       "      <td>0</td>\n",
       "      <td>3</td>\n",
       "      <td>Allen, Mr. William Henry</td>\n",
       "      <td>male</td>\n",
       "      <td>35.0</td>\n",
       "      <td>0</td>\n",
       "      <td>0</td>\n",
       "      <td>373450</td>\n",
       "      <td>8.0500</td>\n",
       "      <td>NaN</td>\n",
       "      <td>S</td>\n",
       "    </tr>\n",
       "  </tbody>\n",
       "</table>\n",
       "</div>"
      ],
      "text/plain": [
       "   PassengerId  Survived  Pclass  \\\n",
       "0            1         0       3   \n",
       "1            2         1       1   \n",
       "2            3         1       3   \n",
       "3            4         1       1   \n",
       "4            5         0       3   \n",
       "\n",
       "                                                Name     Sex   Age  SibSp  \\\n",
       "0                            Braund, Mr. Owen Harris    male  22.0      1   \n",
       "1  Cumings, Mrs. John Bradley (Florence Briggs Th...  female  38.0      1   \n",
       "2                             Heikkinen, Miss. Laina  female  26.0      0   \n",
       "3       Futrelle, Mrs. Jacques Heath (Lily May Peel)  female  35.0      1   \n",
       "4                           Allen, Mr. William Henry    male  35.0      0   \n",
       "\n",
       "   Parch            Ticket     Fare Cabin Embarked  \n",
       "0      0         A/5 21171   7.2500   NaN        S  \n",
       "1      0          PC 17599  71.2833   C85        C  \n",
       "2      0  STON/O2. 3101282   7.9250   NaN        S  \n",
       "3      0            113803  53.1000  C123        S  \n",
       "4      0            373450   8.0500   NaN        S  "
      ]
     },
     "execution_count": 5,
     "metadata": {},
     "output_type": "execute_result"
    }
   ],
   "source": [
    "train= pd.read_csv(r\"C:\\Users\\HP\\Downloads\\titanic\\train.csv\")\n",
    "train.head()\n"
   ]
  },
  {
   "cell_type": "markdown",
   "id": "d7a2ca8c-3e9a-4886-9ee6-448f4726b8e7",
   "metadata": {},
   "source": [
    "## Data Cleaning"
   ]
  },
  {
   "cell_type": "code",
   "execution_count": 7,
   "id": "3bf2758d-f600-4e8e-8538-ff6d563b8c65",
   "metadata": {},
   "outputs": [
    {
     "name": "stdout",
     "output_type": "stream",
     "text": [
      "Missing Values in Train Dataset:\n",
      "                  Column  Missing Values  Percentage\n",
      "Cabin              Cabin             687   77.104377\n",
      "Age                  Age             177   19.865320\n",
      "Embarked        Embarked               2    0.224467\n",
      "PassengerId  PassengerId               0    0.000000\n",
      "Survived        Survived               0    0.000000\n",
      "Pclass            Pclass               0    0.000000\n",
      "Name                Name               0    0.000000\n",
      "Sex                  Sex               0    0.000000\n",
      "SibSp              SibSp               0    0.000000\n",
      "Parch              Parch               0    0.000000\n",
      "Ticket            Ticket               0    0.000000\n",
      "Fare                Fare               0    0.000000\n"
     ]
    }
   ],
   "source": [
    "# Checking for missing values\n",
    "missing_values_train = train.isnull().sum()\n",
    "missing_values_train_percentage = (missing_values_train / len(train)) * 100\n",
    "\n",
    "missing_values_train_df = pd.DataFrame({\n",
    "    'Column': missing_values_train.index,\n",
    "    'Missing Values': missing_values_train.values,\n",
    "    'Percentage': missing_values_train_percentage\n",
    "})\n",
    "print(\"Missing Values in Train Dataset:\")\n",
    "print(missing_values_train_df.sort_values(by='Percentage', ascending=False))"
   ]
  },
  {
   "cell_type": "code",
   "execution_count": 8,
   "id": "565a62ef-ab6c-4b81-9f03-bdca76bdd6f5",
   "metadata": {},
   "outputs": [
    {
     "name": "stdout",
     "output_type": "stream",
     "text": [
      "Missing values in cleaned Train dataset:\n",
      "         Column  Missing Values\n",
      "0   PassengerId               0\n",
      "1      Survived               0\n",
      "2        Pclass               0\n",
      "3          Name               0\n",
      "4           Sex               0\n",
      "5           Age               0\n",
      "6         SibSp               0\n",
      "7         Parch               0\n",
      "8        Ticket               0\n",
      "9          Fare               0\n",
      "10     Embarked               0\n"
     ]
    },
    {
     "name": "stderr",
     "output_type": "stream",
     "text": [
      "C:\\Users\\HP\\AppData\\Local\\Temp\\ipykernel_28652\\4233447141.py:6: FutureWarning: A value is trying to be set on a copy of a DataFrame or Series through chained assignment using an inplace method.\n",
      "The behavior will change in pandas 3.0. This inplace method will never work because the intermediate object on which we are setting values always behaves as a copy.\n",
      "\n",
      "For example, when doing 'df[col].method(value, inplace=True)', try using 'df.method({col: value}, inplace=True)' or df[col] = df[col].method(value) instead, to perform the operation inplace on the original object.\n",
      "\n",
      "\n",
      "  train_cleaned['Age'].fillna(median_age, inplace=True)\n",
      "C:\\Users\\HP\\AppData\\Local\\Temp\\ipykernel_28652\\4233447141.py:10: FutureWarning: A value is trying to be set on a copy of a DataFrame or Series through chained assignment using an inplace method.\n",
      "The behavior will change in pandas 3.0. This inplace method will never work because the intermediate object on which we are setting values always behaves as a copy.\n",
      "\n",
      "For example, when doing 'df[col].method(value, inplace=True)', try using 'df.method({col: value}, inplace=True)' or df[col] = df[col].method(value) instead, to perform the operation inplace on the original object.\n",
      "\n",
      "\n",
      "  train_cleaned['Embarked'].fillna(mode_embarked, inplace=True)\n"
     ]
    }
   ],
   "source": [
    "# Drop the 'Cabin' column\n",
    "train_cleaned = train.drop(columns=['Cabin'])\n",
    "\n",
    "# Impute missing 'Age' values with the median age\n",
    "median_age = train_cleaned['Age'].median()\n",
    "train_cleaned['Age'].fillna(median_age, inplace=True)\n",
    "\n",
    "# Impute missing 'Embarked' values with the mode\n",
    "mode_embarked = train_cleaned['Embarked'].mode()[0]\n",
    "train_cleaned['Embarked'].fillna(mode_embarked, inplace=True)\n",
    "\n",
    "# Verify that there are no missing values left\n",
    "missing_values_cleaned = train_cleaned.isnull().sum()\n",
    "\n",
    "missing_values_cleaned_df = pd.DataFrame({\n",
    "    'Column': missing_values_cleaned.index,\n",
    "    'Missing Values': missing_values_cleaned.values\n",
    "})\n",
    "print(\"Missing values in cleaned Train dataset:\")\n",
    "print(missing_values_cleaned_df.sort_values(by='Missing Values', ascending=False))"
   ]
  },
  {
   "cell_type": "markdown",
   "id": "dd9f6301-f0d7-4b54-9d68-c007c60c0073",
   "metadata": {},
   "source": [
    "# EDA (Exploratory Data Analysis)"
   ]
  },
  {
   "cell_type": "code",
   "execution_count": 14,
   "id": "bc2e9b9c-b993-4a3a-94fa-a72f20e259d1",
   "metadata": {},
   "outputs": [
    {
     "name": "stdout",
     "output_type": "stream",
     "text": [
      "Numerical Summary Statistics\n",
      "       PassengerId    Survived      Pclass         Age       SibSp  \\\n",
      "count   891.000000  891.000000  891.000000  891.000000  891.000000   \n",
      "mean    446.000000    0.383838    2.308642   29.361582    0.523008   \n",
      "std     257.353842    0.486592    0.836071   13.019697    1.102743   \n",
      "min       1.000000    0.000000    1.000000    0.420000    0.000000   \n",
      "25%     223.500000    0.000000    2.000000   22.000000    0.000000   \n",
      "50%     446.000000    0.000000    3.000000   28.000000    0.000000   \n",
      "75%     668.500000    1.000000    3.000000   35.000000    1.000000   \n",
      "max     891.000000    1.000000    3.000000   80.000000    8.000000   \n",
      "\n",
      "            Parch        Fare  \n",
      "count  891.000000  891.000000  \n",
      "mean     0.381594   32.204208  \n",
      "std      0.806057   49.693429  \n",
      "min      0.000000    0.000000  \n",
      "25%      0.000000    7.910400  \n",
      "50%      0.000000   14.454200  \n",
      "75%      0.000000   31.000000  \n",
      "max      6.000000  512.329200  \n",
      "Categorical Summary Statistics\n",
      "                           Name   Sex  Ticket Embarked\n",
      "count                       891   891     891      891\n",
      "unique                      891     2     681        3\n",
      "top     Braund, Mr. Owen Harris  male  347082        S\n",
      "freq                          1   577       7      646\n"
     ]
    }
   ],
   "source": [
    "# Summary statistics for numerical columns\n",
    "numerical_summary = train_cleaned.describe()\n",
    "\n",
    "# Distribution of categorical variables\n",
    "categorical_summary = train_cleaned.describe(include=['O'])\n",
    "\n",
    "print(\"Numerical Summary Statistics\")\n",
    "print(numerical_summary)\n",
    "\n",
    "print(\"Categorical Summary Statistics\")\n",
    "print(categorical_summary)\n"
   ]
  },
  {
   "cell_type": "markdown",
   "id": "0a28daf9-bccf-429c-a76f-70b406af84f3",
   "metadata": {},
   "source": [
    "## Univariate Analysis"
   ]
  },
  {
   "cell_type": "code",
   "execution_count": 15,
   "id": "060832c4-c557-4824-a5bd-dfd3d5b750e2",
   "metadata": {},
   "outputs": [
    {
     "data": {
      "image/png": "[encoded data removed]",
      "text/plain": [
       "<Figure size 1008x720 with 4 Axes>"
      ]
     },
     "metadata": {
      "needs_background": "light"
     },
     "output_type": "display_data"
    }
   ],
   "source": [
    "import matplotlib.pyplot as plt\n",
    "\n",
    "# Plot histograms for continuous variables\n",
    "fig, axes = plt.subplots(2, 2, figsize=(14, 10))\n",
    "\n",
    "# Age\n",
    "axes[0, 0].hist(train_cleaned['Age'], bins=20, color='blue', edgecolor='black')\n",
    "axes[0, 0].set_title('Distribution of Age')\n",
    "axes[0, 0].set_xlabel('Age')\n",
    "axes[0, 0].set_ylabel('Frequency')\n",
    "\n",
    "# Fare\n",
    "axes[0, 1].hist(train_cleaned['Fare'], bins=20, color='green', edgecolor='black')\n",
    "axes[0, 1].set_title('Distribution of Fare')\n",
    "axes[0, 1].set_xlabel('Fare')\n",
    "axes[0, 1].set_ylabel('Frequency')\n",
    "\n",
    "# SibSp\n",
    "axes[1, 0].hist(train_cleaned['SibSp'], bins=8, color='purple', edgecolor='black')\n",
    "axes[1, 0].set_title('Distribution of SibSp')\n",
    "axes[1, 0].set_xlabel('SibSp')\n",
    "axes[1, 0].set_ylabel('Frequency')\n",
    "\n",
    "# Parch\n",
    "axes[1, 1].hist(train_cleaned['Parch'], bins=6, color='red', edgecolor='black')\n",
    "axes[1, 1].set_title('Distribution of Parch')\n",
    "axes[1, 1].set_xlabel('Parch')\n",
    "axes[1, 1].set_ylabel('Frequency')\n",
    "\n",
    "plt.tight_layout()\n",
    "plt.show()\n"
   ]
  },
  {
   "cell_type": "code",
   "execution_count": 16,
   "id": "afef96f8-dc95-4c9f-a8b7-24a9e6a1a6d4",
   "metadata": {},
   "outputs": [
    {
     "name": "stderr",
     "output_type": "stream",
     "text": [
      "C:\\Users\\HP\\AppData\\Local\\Temp\\ipykernel_28652\\1892482914.py:7: FutureWarning: \n",
      "\n",
      "Passing `palette` without assigning `hue` is deprecated and will be removed in v0.14.0. Assign the `x` variable to `hue` and set `legend=False` for the same effect.\n",
      "\n",
      "  sns.countplot(ax=axes[0, 0], x='Survived', data=train_cleaned, palette='viridis')\n",
      "C:\\Users\\HP\\AppData\\Local\\Temp\\ipykernel_28652\\1892482914.py:13: FutureWarning: \n",
      "\n",
      "Passing `palette` without assigning `hue` is deprecated and will be removed in v0.14.0. Assign the `x` variable to `hue` and set `legend=False` for the same effect.\n",
      "\n",
      "  sns.countplot(ax=axes[0, 1], x='Pclass', data=train_cleaned, palette='viridis')\n",
      "C:\\Users\\HP\\AppData\\Local\\Temp\\ipykernel_28652\\1892482914.py:19: FutureWarning: \n",
      "\n",
      "Passing `palette` without assigning `hue` is deprecated and will be removed in v0.14.0. Assign the `x` variable to `hue` and set `legend=False` for the same effect.\n",
      "\n",
      "  sns.countplot(ax=axes[1, 0], x='Sex', data=train_cleaned, palette='viridis')\n",
      "C:\\Users\\HP\\AppData\\Local\\Temp\\ipykernel_28652\\1892482914.py:25: FutureWarning: \n",
      "\n",
      "Passing `palette` without assigning `hue` is deprecated and will be removed in v0.14.0. Assign the `x` variable to `hue` and set `legend=False` for the same effect.\n",
      "\n",
      "  sns.countplot(ax=axes[1, 1], x='Embarked', data=train_cleaned, palette='viridis')\n"
     ]
    },
    {
     "data": {
      "image/png": "[encoded data removed]",
      "text/plain": [
       "<Figure size 1008x720 with 4 Axes>"
      ]
     },
     "metadata": {
      "needs_background": "light"
     },
     "output_type": "display_data"
    }
   ],
   "source": [
    "import seaborn as sns\n",
    "\n",
    "# Plot bar plots for categorical variables\n",
    "fig, axes = plt.subplots(2, 2, figsize=(14, 10))\n",
    "\n",
    "# Survived\n",
    "sns.countplot(ax=axes[0, 0], x='Survived', data=train_cleaned, palette='viridis')\n",
    "axes[0, 0].set_title('Survival Counts')\n",
    "axes[0, 0].set_xlabel('Survived')\n",
    "axes[0, 0].set_ylabel('Count')\n",
    "\n",
    "# Pclass\n",
    "sns.countplot(ax=axes[0, 1], x='Pclass', data=train_cleaned, palette='viridis')\n",
    "axes[0, 1].set_title('Passenger Class Counts')\n",
    "axes[0, 1].set_xlabel('Pclass')\n",
    "axes[0, 1].set_ylabel('Count')\n",
    "\n",
    "# Sex\n",
    "sns.countplot(ax=axes[1, 0], x='Sex', data=train_cleaned, palette='viridis')\n",
    "axes[1, 0].set_title('Gender Counts')\n",
    "axes[1, 0].set_xlabel('Sex')\n",
    "axes[1, 0].set_ylabel('Count')\n",
    "\n",
    "# Embarked\n",
    "sns.countplot(ax=axes[1, 1], x='Embarked', data=train_cleaned, palette='viridis')\n",
    "axes[1, 1].set_title('Embarked Counts')\n",
    "axes[1, 1].set_xlabel('Embarked')\n",
    "axes[1, 1].set_ylabel('Count')\n",
    "\n",
    "plt.tight_layout()\n",
    "plt.show()\n"
   ]
  },
  {
   "cell_type": "markdown",
   "id": "075a9d3c-ed5c-4a51-ba6e-8cd171879732",
   "metadata": {},
   "source": [
    "## Bivariate Analysis"
   ]
  },
  {
   "cell_type": "code",
   "execution_count": 17,
   "id": "02ef472c-9553-46c2-9f6a-faa3b9d6405a",
   "metadata": {},
   "outputs": [
    {
     "name": "stderr",
     "output_type": "stream",
     "text": [
      "C:\\Users\\HP\\AppData\\Local\\Temp\\ipykernel_28652\\1539954941.py:5: FutureWarning: \n",
      "\n",
      "Passing `palette` without assigning `hue` is deprecated and will be removed in v0.14.0. Assign the `x` variable to `hue` and set `legend=False` for the same effect.\n",
      "\n",
      "  sns.barplot(ax=axes[0], x='Pclass', y='Survived', data=train_cleaned, palette='viridis')\n",
      "C:\\Users\\HP\\AppData\\Local\\Temp\\ipykernel_28652\\1539954941.py:11: FutureWarning: \n",
      "\n",
      "Passing `palette` without assigning `hue` is deprecated and will be removed in v0.14.0. Assign the `x` variable to `hue` and set `legend=False` for the same effect.\n",
      "\n",
      "  sns.barplot(ax=axes[1], x='Sex', y='Survived', data=train_cleaned, palette='viridis')\n",
      "C:\\Users\\HP\\AppData\\Local\\Temp\\ipykernel_28652\\1539954941.py:17: FutureWarning: \n",
      "\n",
      "Passing `palette` without assigning `hue` is deprecated and will be removed in v0.14.0. Assign the `x` variable to `hue` and set `legend=False` for the same effect.\n",
      "\n",
      "  sns.barplot(ax=axes[2], x='Embarked', y='Survived', data=train_cleaned, palette='viridis')\n"
     ]
    },
    {
     "data": {
      "image/png": "[encoded data removed]",
      "text/plain": [
       "<Figure size 1296x432 with 3 Axes>"
      ]
     },
     "metadata": {
      "needs_background": "light"
     },
     "output_type": "display_data"
    }
   ],
   "source": [
    "# Plot survival rates by Pclass, Sex, and Embarked\n",
    "fig, axes = plt.subplots(1, 3, figsize=(18, 6))\n",
    "\n",
    "# Survival rate by Pclass\n",
    "sns.barplot(ax=axes[0], x='Pclass', y='Survived', data=train_cleaned, palette='viridis')\n",
    "axes[0].set_title('Survival Rate by Passenger Class')\n",
    "axes[0].set_xlabel('Pclass')\n",
    "axes[0].set_ylabel('Survival Rate')\n",
    "\n",
    "# Survival rate by Sex\n",
    "sns.barplot(ax=axes[1], x='Sex', y='Survived', data=train_cleaned, palette='viridis')\n",
    "axes[1].set_title('Survival Rate by Gender')\n",
    "axes[1].set_xlabel('Sex')\n",
    "axes[1].set_ylabel('Survival Rate')\n",
    "\n",
    "# Survival rate by Embarked\n",
    "sns.barplot(ax=axes[2], x='Embarked', y='Survived', data=train_cleaned, palette='viridis')\n",
    "axes[2].set_title('Survival Rate by Embarkation Point')\n",
    "axes[2].set_xlabel('Embarked')\n",
    "axes[2].set_ylabel('Survival Rate')\n",
    "\n",
    "plt.tight_layout()\n",
    "plt.show()\n"
   ]
  },
  {
   "cell_type": "code",
   "execution_count": 18,
   "id": "f890f23b-b0e6-4b45-8a39-78b19ebd231f",
   "metadata": {},
   "outputs": [
    {
     "name": "stderr",
     "output_type": "stream",
     "text": [
      "C:\\Users\\HP\\AppData\\Local\\Temp\\ipykernel_28652\\698437053.py:5: FutureWarning: \n",
      "\n",
      "Passing `palette` without assigning `hue` is deprecated and will be removed in v0.14.0. Assign the `x` variable to `hue` and set `legend=False` for the same effect.\n",
      "\n",
      "  sns.boxplot(ax=axes[0], x='Survived', y='Age', data=train_cleaned, palette='viridis')\n",
      "C:\\Users\\HP\\AppData\\Local\\Temp\\ipykernel_28652\\698437053.py:11: FutureWarning: \n",
      "\n",
      "Passing `palette` without assigning `hue` is deprecated and will be removed in v0.14.0. Assign the `x` variable to `hue` and set `legend=False` for the same effect.\n",
      "\n",
      "  sns.boxplot(ax=axes[1], x='Survived', y='Fare', data=train_cleaned, palette='viridis')\n"
     ]
    },
    {
     "data": {
      "image/png": "[encoded data removed]",
      "text/plain": [
       "<Figure size 1008x432 with 2 Axes>"
      ]
     },
     "metadata": {
      "needs_background": "light"
     },
     "output_type": "display_data"
    }
   ],
   "source": [
    "# Plot box plots for Age and Fare against Survived\n",
    "fig, axes = plt.subplots(1, 2, figsize=(14, 6))\n",
    "\n",
    "# Age vs Survived\n",
    "sns.boxplot(ax=axes[0], x='Survived', y='Age', data=train_cleaned, palette='viridis')\n",
    "axes[0].set_title('Age Distribution by Survival Status')\n",
    "axes[0].set_xlabel('Survived')\n",
    "axes[0].set_ylabel('Age')\n",
    "\n",
    "# Fare vs Survived\n",
    "sns.boxplot(ax=axes[1], x='Survived', y='Fare', data=train_cleaned, palette='viridis')\n",
    "axes[1].set_title('Fare Distribution by Survival Status')\n",
    "axes[1].set_xlabel('Survived')\n",
    "axes[1].set_ylabel('Fare')\n",
    "\n",
    "plt.tight_layout()\n",
    "plt.show()\n"
   ]
  },
  {
   "cell_type": "code",
   "execution_count": 20,
   "id": "91aceaf6-ffab-4a23-8998-0d201ba22a67",
   "metadata": {},
   "outputs": [
    {
     "name": "stdout",
     "output_type": "stream",
     "text": [
      "Train Dataset with New Features\n"
     ]
    },
    {
     "data": {
      "text/html": [
       "<div>\n",
       "<style scoped>\n",
       "    .dataframe tbody tr th:only-of-type {\n",
       "        vertical-align: middle;\n",
       "    }\n",
       "\n",
       "    .dataframe tbody tr th {\n",
       "        vertical-align: top;\n",
       "    }\n",
       "\n",
       "    .dataframe thead th {\n",
       "        text-align: right;\n",
       "    }\n",
       "</style>\n",
       "<table border=\"1\" class=\"dataframe\">\n",
       "  <thead>\n",
       "    <tr style=\"text-align: right;\">\n",
       "      <th></th>\n",
       "      <th>FamilySize</th>\n",
       "      <th>Title</th>\n",
       "      <th>IsAlone</th>\n",
       "    </tr>\n",
       "  </thead>\n",
       "  <tbody>\n",
       "    <tr>\n",
       "      <th>0</th>\n",
       "      <td>2</td>\n",
       "      <td>Mr</td>\n",
       "      <td>0</td>\n",
       "    </tr>\n",
       "    <tr>\n",
       "      <th>1</th>\n",
       "      <td>2</td>\n",
       "      <td>Mrs</td>\n",
       "      <td>0</td>\n",
       "    </tr>\n",
       "    <tr>\n",
       "      <th>2</th>\n",
       "      <td>1</td>\n",
       "      <td>Miss</td>\n",
       "      <td>1</td>\n",
       "    </tr>\n",
       "    <tr>\n",
       "      <th>3</th>\n",
       "      <td>2</td>\n",
       "      <td>Mrs</td>\n",
       "      <td>0</td>\n",
       "    </tr>\n",
       "    <tr>\n",
       "      <th>4</th>\n",
       "      <td>1</td>\n",
       "      <td>Mr</td>\n",
       "      <td>1</td>\n",
       "    </tr>\n",
       "  </tbody>\n",
       "</table>\n",
       "</div>"
      ],
      "text/plain": [
       "   FamilySize Title  IsAlone\n",
       "0           2    Mr        0\n",
       "1           2   Mrs        0\n",
       "2           1  Miss        1\n",
       "3           2   Mrs        0\n",
       "4           1    Mr        1"
      ]
     },
     "execution_count": 20,
     "metadata": {},
     "output_type": "execute_result"
    }
   ],
   "source": [
    "# Create FamilySize feature\n",
    "train_cleaned['FamilySize'] = train_cleaned['SibSp'] + train_cleaned['Parch'] + 1\n",
    "\n",
    "# Extract titles from the Name column\n",
    "train_cleaned['Title'] = train_cleaned['Name'].str.extract(' ([A-Za-z]+)\\.', expand=False)\n",
    "\n",
    "# Create IsAlone feature\n",
    "train_cleaned['IsAlone'] = (train_cleaned['FamilySize'] == 1).astype(int)\n",
    "\n",
    "# Display the first few rows to verify the new features\n",
    "print(\"Train Dataset with New Features\")\n",
    "\n",
    "train_cleaned[['FamilySize', 'Title', 'IsAlone']].head()\n"
   ]
  },
  {
   "cell_type": "code",
   "execution_count": null,
   "id": "ab29f60b-c129-44d2-9a3c-5a5d7e02dbf9",
   "metadata": {},
   "outputs": [],
   "source": []
  }
 ],
 "metadata": {
  "kernelspec": {
   "display_name": "Python 3 (ipykernel)",
   "language": "python",
   "name": "python3"
  },
  "language_info": {
   "codemirror_mode": {
    "name": "ipython",
    "version": 3
   },
   "file_extension": ".py",
   "mimetype": "text/x-python",
   "name": "python",
   "nbconvert_exporter": "python",
   "pygments_lexer": "ipython3",
   "version": "3.9.7"
  }
 },
 "nbformat": 4,
 "nbformat_minor": 5
}
